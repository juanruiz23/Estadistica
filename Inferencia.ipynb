{
  "nbformat": 4,
  "nbformat_minor": 0,
  "metadata": {
    "colab": {
      "name": "Inferencia.ipynb",
      "provenance": []
    },
    "kernelspec": {
      "name": "python3",
      "display_name": "Python 3"
    },
    "language_info": {
      "name": "python"
    }
  },
  "cells": [
    {
      "cell_type": "markdown",
      "source": [
        "# Inferencia para una población\n",
        "## Parámetro de localización: media\n",
        "\n",
        "### Bajo normalidad\n",
        "Sea $x_1, x_2, \\ldots ,x_n$ una muestra aleatoria proveniente de una distribución normal de media $\\mu$ y varianza $\\sigma^2$ conocida, un intervalo de confianza del $(1-\\alpha)$% para $\\mu$ esta dado por:\n",
        "$$P(\\bar{x}-z_{ \\frac{\\alpha}{2}}\\frac{\\sigma}{\\sqrt{n}}<\\mu<\\bar{x}+z_{ \\frac{\\alpha}{2}}\\frac{\\sigma}{\\sqrt{n}})=1-\\alpha$$\n",
        "\n",
        "Además, bajo Teorema del limite central, para tamaños de muestra grande am\n",
        "\n",
        "### Bajo distribución exponencial\n",
        "\n",
        "Sea $x_1, x_2, \\ldots ,x_n$ una muestra aleatoria proveniente de una distribución exponencial de media $\\theta$, un intervalo de confianza del $(1-\\alpha)$% para $\\theta$ esta dado por:\n",
        "\n",
        "$$P(\\frac{\\sum_{i=1}^nx_i}{Gamma(n,1)_{1- \\alpha/2}}<\\theta<\\frac{\\sum_{i=1}^nx_i}{Gamma(n,1)_{\\alpha/2}})=1-\\alpha$$\n",
        "\n",
        "### Bajo distribución poisson\n",
        "\n",
        "Sea $x_1, x_2, \\ldots ,x_n$ una muestra aleatoria proveniente de una distribución exponencial de media $\\lambda$, un intervalo de confianza del $(1-\\alpha)$% para $\\lambda$ esta dado por:\n",
        "\n",
        "$$P(\\frac{1}{2n}\\chi^2_{2y_0, \\alpha/2}<\\lambda<\\frac{1}{2n}\\chi^2_{2(y_0+1),1-\\alpha/2})=1-\\alpha$$\n",
        "\n",
        "### Bajo distribución libre\n",
        "\n",
        "Sea $x_1, x_2, \\ldots ,x_n$ una muestra aleatoria proveniente de una distribución cualquiera, un intervalo de confianza del $(1-\\alpha)$% para la mediana esta dado por:\n",
        "\n",
        "$$P(X_{k+1}\\leq mediana<X_{N-k})=1-\\alpha$$\n",
        "\n",
        "Donde $K$ es el valor tal que $P(x<k)=\\frac{\\alpha}{2}$ donde $x$ tiene una distribución binomial de parametros $n$ (tamaño de la muestra) y probabilidad de exito $\\frac{1}{2}$. Ademas, dentro del calculo de intervalo es necesario tener en cuenta que los valores de $X$ deben estar organizados."
      ],
      "metadata": {
        "id": "J25_Smdw7gME"
      }
    },
    {
      "cell_type": "markdown",
      "source": [
        ""
      ],
      "metadata": {
        "id": "8TIJpjOCOKPE"
      }
    },
    {
      "cell_type": "markdown",
      "source": [
        "# Proporción\n",
        "\n",
        "## Enfoque clásico\n",
        "Sea $x_1,x_2,\\ldots,x_n$ una muestra aleatoria de una distribución bernoulli con probabilidad de éxito $\\theta$, un intervalo de confianza del $(1-\\alpha)$% para $p$ cuando el tamaño de muestra $n$ es grande, esta dado por:\n",
        "\n",
        "$$P(\\hat{\\theta}-z_{ \\frac{\\alpha}{2}}\\sqrt{\\frac{\\hat{\\theta}(1-\\hat{\\theta})}{n}}<\\theta<\\hat{\\theta}+z_{ \\frac{\\alpha}{2}}\\sqrt{\\frac{\\hat{\\theta}(1-\\hat{\\theta})}{n}})$$=1-\\alpha\n",
        "\n",
        "## Enfoque Bayesiano\n",
        "\n",
        "Partiendo de la misma base, sea $x_1,x_2,\\ldots,x_n$ una muestra aleatoria de una distribución bernoulli con probabilidad de éxito $\\theta$, \n",
        "\n",
        "### Apriori uniforme\n",
        "\n",
        "Si apriori a $\\theta$ se le asigna una distribución $U(0,1)$, aposteriori, se tiene que $\\theta|y \\sim Beta(\\alpha=\\sum_{i=1}^ny_i+1, \\beta=n-\\sum_{i=1}^ny_i+1)$, con lo cual, un intervalo de credibilidad CPDR del $(1-\\alpha)$% para $\\theta$ es $[a,b]$ que cumplan:\n",
        "\n",
        "$$P(a<\\theta|y<b)=1-\\alpha$$\n",
        "\n",
        "### Aprori Jeffreys\n",
        "\n",
        "### Aprori Informativa\n"
      ],
      "metadata": {
        "id": "adoCRocCCanX"
      }
    },
    {
      "cell_type": "code",
      "source": [
        ""
      ],
      "metadata": {
        "id": "kKk7AqBJFupc"
      },
      "execution_count": null,
      "outputs": []
    }
  ]
}